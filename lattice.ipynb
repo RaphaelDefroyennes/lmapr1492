{
 "cells": [
  {
   "cell_type": "code",
   "execution_count": 38,
   "metadata": {},
   "outputs": [],
   "source": [
    "from pymatgen.ext.matproj import MPRester\n",
    "from pymatgen.symmetry.analyzer import SpacegroupAnalyzer\n",
    "\n",
    "with MPRester(\"KUzfIoD3QVtRukS27HvJjx9lEB4kG6mi\") as m:\n",
    "    structure = m.get_structure_by_material_id(\"mp-10378\")"
   ]
  },
  {
   "cell_type": "code",
   "execution_count": 39,
   "metadata": {},
   "outputs": [
    {
     "name": "stdout",
     "output_type": "stream",
     "text": [
      "Les vecteurs de bases des réseaux direct sont :\n",
      "a = 6.537599270933274 Å\n",
      "b = 6.537598355805057 Å\n",
      "c = 6.53759826 Å\n"
     ]
    }
   ],
   "source": [
    "analyser = SpacegroupAnalyzer(structure)\n",
    "print(\"Les vecteurs de bases des réseaux direct sont :\")\n",
    "print(\"a =\", structure.lattice.abc[0], \"Å\")\n",
    "print(\"b =\", structure.lattice.abc[1], \"Å\")\n",
    "print(\"c =\", structure.lattice.abc[2], \"Å\")"
   ]
  },
  {
   "cell_type": "code",
   "execution_count": 40,
   "metadata": {},
   "outputs": [
    {
     "name": "stdout",
     "output_type": "stream",
     "text": [
      "Les vecteurs de bases des réseaux réciproques :\n",
      "a = 1.1770832560902584 Å\n",
      "b = 1.1770834760669935 Å\n",
      "c = 1.1770835497376868 Å\n"
     ]
    }
   ],
   "source": [
    "print(\"Les vecteurs de bases des réseaux réciproques :\")\n",
    "print(\"a =\", structure.lattice.reciprocal_lattice.abc[0], \"Å\")\n",
    "print(\"b =\", structure.lattice.reciprocal_lattice.abc[1], \"Å\")\n",
    "print(\"c =\", structure.lattice.reciprocal_lattice.abc[2], \"Å\")"
   ]
  },
  {
   "cell_type": "code",
   "execution_count": 41,
   "metadata": {},
   "outputs": [
    {
     "name": "stdout",
     "output_type": "stream",
     "text": [
      "Son type de maille est : cubic\n"
     ]
    }
   ],
   "source": [
    "print(\"Son type de maille est :\", analyser.get_lattice_type())\n"
   ]
  },
  {
   "cell_type": "code",
   "execution_count": 42,
   "metadata": {},
   "outputs": [
    {
     "name": "stdout",
     "output_type": "stream",
     "text": [
      "Son système cristallin est : cubic\n"
     ]
    }
   ],
   "source": [
    "print(\"Son système cristallin est :\", analyser.get_crystal_system())"
   ]
  },
  {
   "cell_type": "code",
   "execution_count": 44,
   "metadata": {},
   "outputs": [
    {
     "name": "stdout",
     "output_type": "stream",
     "text": [
      "Son groupe ponctuel est : Fm-3m\n",
      "Le numéro de ce groupe ponctuel est : 225\n"
     ]
    }
   ],
   "source": [
    "print(\"Son groupe ponctuel est :\", analyser.get_space_group_symbol())\n",
    "print(\"Le numéro de ce groupe ponctuel est :\",  analyser.get_space_group_number())"
   ]
  },
  {
   "cell_type": "code",
   "execution_count": null,
   "metadata": {},
   "outputs": [],
   "source": []
  }
 ],
 "metadata": {
  "kernelspec": {
   "display_name": "Python 3",
   "language": "python",
   "name": "python3"
  },
  "language_info": {
   "codemirror_mode": {
    "name": "ipython",
    "version": 3
   },
   "file_extension": ".py",
   "mimetype": "text/x-python",
   "name": "python",
   "nbconvert_exporter": "python",
   "pygments_lexer": "ipython3",
   "version": "3.8.5"
  }
 },
 "nbformat": 4,
 "nbformat_minor": 4
}
